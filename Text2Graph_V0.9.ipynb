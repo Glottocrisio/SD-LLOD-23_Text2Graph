{
  "nbformat": 4,
  "nbformat_minor": 0,
  "metadata": {
    "colab": {
      "provenance": [],
      "gpuType": "T4",
      "toc_visible": true
    },
    "kernelspec": {
      "name": "python3",
      "display_name": "Python 3"
    },
    "language_info": {
      "name": "python"
    },
    "accelerator": "GPU"
  },
  "cells": [
    {
      "cell_type": "markdown",
      "source": [
        "# Text2Graph"
      ],
      "metadata": {
        "id": "2PNrOLq3D6QQ"
      }
    },
    {
      "cell_type": "code",
      "source": [
        "!pip install transformers\n",
        "!pip install requests\n",
        "!pip install sparqlwrapper\n",
        "!pip install rdflib"
      ],
      "metadata": {
        "colab": {
          "base_uri": "https://localhost:8080/"
        },
        "id": "JZbpGaEZ6RJp",
        "outputId": "982581e1-09bb-4a90-cdc1-899b01045d39"
      },
      "execution_count": 23,
      "outputs": [
        {
          "output_type": "stream",
          "name": "stdout",
          "text": [
            "Looking in indexes: https://pypi.org/simple, https://us-python.pkg.dev/colab-wheels/public/simple/\n",
            "Requirement already satisfied: transformers in /usr/local/lib/python3.10/dist-packages (4.30.2)\n",
            "Requirement already satisfied: filelock in /usr/local/lib/python3.10/dist-packages (from transformers) (3.12.0)\n",
            "Requirement already satisfied: huggingface-hub<1.0,>=0.14.1 in /usr/local/lib/python3.10/dist-packages (from transformers) (0.15.1)\n",
            "Requirement already satisfied: numpy>=1.17 in /usr/local/lib/python3.10/dist-packages (from transformers) (1.22.4)\n",
            "Requirement already satisfied: packaging>=20.0 in /usr/local/lib/python3.10/dist-packages (from transformers) (23.1)\n",
            "Requirement already satisfied: pyyaml>=5.1 in /usr/local/lib/python3.10/dist-packages (from transformers) (6.0)\n",
            "Requirement already satisfied: regex!=2019.12.17 in /usr/local/lib/python3.10/dist-packages (from transformers) (2022.10.31)\n",
            "Requirement already satisfied: requests in /usr/local/lib/python3.10/dist-packages (from transformers) (2.27.1)\n",
            "Requirement already satisfied: tokenizers!=0.11.3,<0.14,>=0.11.1 in /usr/local/lib/python3.10/dist-packages (from transformers) (0.13.3)\n",
            "Requirement already satisfied: safetensors>=0.3.1 in /usr/local/lib/python3.10/dist-packages (from transformers) (0.3.1)\n",
            "Requirement already satisfied: tqdm>=4.27 in /usr/local/lib/python3.10/dist-packages (from transformers) (4.65.0)\n",
            "Requirement already satisfied: fsspec in /usr/local/lib/python3.10/dist-packages (from huggingface-hub<1.0,>=0.14.1->transformers) (2023.4.0)\n",
            "Requirement already satisfied: typing-extensions>=3.7.4.3 in /usr/local/lib/python3.10/dist-packages (from huggingface-hub<1.0,>=0.14.1->transformers) (4.5.0)\n",
            "Requirement already satisfied: urllib3<1.27,>=1.21.1 in /usr/local/lib/python3.10/dist-packages (from requests->transformers) (1.26.15)\n",
            "Requirement already satisfied: certifi>=2017.4.17 in /usr/local/lib/python3.10/dist-packages (from requests->transformers) (2022.12.7)\n",
            "Requirement already satisfied: charset-normalizer~=2.0.0 in /usr/local/lib/python3.10/dist-packages (from requests->transformers) (2.0.12)\n",
            "Requirement already satisfied: idna<4,>=2.5 in /usr/local/lib/python3.10/dist-packages (from requests->transformers) (3.4)\n",
            "Looking in indexes: https://pypi.org/simple, https://us-python.pkg.dev/colab-wheels/public/simple/\n",
            "Requirement already satisfied: requests in /usr/local/lib/python3.10/dist-packages (2.27.1)\n",
            "Requirement already satisfied: urllib3<1.27,>=1.21.1 in /usr/local/lib/python3.10/dist-packages (from requests) (1.26.15)\n",
            "Requirement already satisfied: certifi>=2017.4.17 in /usr/local/lib/python3.10/dist-packages (from requests) (2022.12.7)\n",
            "Requirement already satisfied: charset-normalizer~=2.0.0 in /usr/local/lib/python3.10/dist-packages (from requests) (2.0.12)\n",
            "Requirement already satisfied: idna<4,>=2.5 in /usr/local/lib/python3.10/dist-packages (from requests) (3.4)\n",
            "Looking in indexes: https://pypi.org/simple, https://us-python.pkg.dev/colab-wheels/public/simple/\n",
            "Requirement already satisfied: sparqlwrapper in /usr/local/lib/python3.10/dist-packages (2.0.0)\n",
            "Requirement already satisfied: rdflib>=6.1.1 in /usr/local/lib/python3.10/dist-packages (from sparqlwrapper) (6.3.2)\n",
            "Requirement already satisfied: isodate<0.7.0,>=0.6.0 in /usr/local/lib/python3.10/dist-packages (from rdflib>=6.1.1->sparqlwrapper) (0.6.1)\n",
            "Requirement already satisfied: pyparsing<4,>=2.1.0 in /usr/local/lib/python3.10/dist-packages (from rdflib>=6.1.1->sparqlwrapper) (3.0.9)\n",
            "Requirement already satisfied: six in /usr/local/lib/python3.10/dist-packages (from isodate<0.7.0,>=0.6.0->rdflib>=6.1.1->sparqlwrapper) (1.16.0)\n",
            "Looking in indexes: https://pypi.org/simple, https://us-python.pkg.dev/colab-wheels/public/simple/\n",
            "Requirement already satisfied: rdflib in /usr/local/lib/python3.10/dist-packages (6.3.2)\n",
            "Requirement already satisfied: isodate<0.7.0,>=0.6.0 in /usr/local/lib/python3.10/dist-packages (from rdflib) (0.6.1)\n",
            "Requirement already satisfied: pyparsing<4,>=2.1.0 in /usr/local/lib/python3.10/dist-packages (from rdflib) (3.0.9)\n",
            "Requirement already satisfied: six in /usr/local/lib/python3.10/dist-packages (from isodate<0.7.0,>=0.6.0->rdflib) (1.16.0)\n"
          ]
        }
      ]
    },
    {
      "cell_type": "code",
      "source": [
        "#text = \"Punta Cana is a resort town in the municipality of Higuey, in La Altagracia Province, the eastern most province of the Dominican Republic\"\n",
        "text = \"Zagreb is the capital of Croatia, a beautiful country from Eastern Europe.\""
      ],
      "metadata": {
        "id": "lWuDsQfSEmu8"
      },
      "execution_count": 149,
      "outputs": []
    },
    {
      "cell_type": "markdown",
      "source": [
        "## Rebel -> Relation Extraction By End-to-end Language generation\n"
      ],
      "metadata": {
        "id": "9e-OtDdKR_Eg"
      }
    },
    {
      "cell_type": "code",
      "source": [
        "from transformers import pipeline\n",
        "\n",
        "triplet_extractor = pipeline('text2text-generation', model='Babelscape/rebel-large', tokenizer='Babelscape/rebel-large')\n",
        "extracted_text = triplet_extractor.tokenizer.batch_decode([triplet_extractor(text, return_tensors=True, return_text=False)[0][\"generated_token_ids\"]])"
      ],
      "metadata": {
        "id": "WfTUa2jx9FUk"
      },
      "execution_count": 150,
      "outputs": []
    },
    {
      "cell_type": "code",
      "source": [
        "extracted_text[0]"
      ],
      "metadata": {
        "colab": {
          "base_uri": "https://localhost:8080/",
          "height": 53
        },
        "id": "ES7Am2s2LLUx",
        "outputId": "667ab829-475c-4008-b699-282c34597eac"
      },
      "execution_count": 151,
      "outputs": [
        {
          "output_type": "execute_result",
          "data": {
            "text/plain": [
              "'<s><triplet> Zagreb <subj> capital <obj> instance of <subj> Croatia <obj> country <triplet> Croatia <subj> Zagreb <obj> capital</s>'"
            ],
            "application/vnd.google.colaboratory.intrinsic+json": {
              "type": "string"
            }
          },
          "metadata": {},
          "execution_count": 151
        }
      ]
    },
    {
      "cell_type": "markdown",
      "source": [
        "Function to parse the generated text and extract the triplets"
      ],
      "metadata": {
        "id": "Cqub5qHjEdgY"
      }
    },
    {
      "cell_type": "code",
      "source": [
        "def extract_triplets(text):\n",
        "    triplets = []\n",
        "    relation, subject, relation, object_ = '', '', '', ''\n",
        "    text = text.strip()\n",
        "    current = 'x'\n",
        "    for token in text.replace(\"<s>\", \"\").replace(\"<pad>\", \"\").replace(\"</s>\", \"\").split():\n",
        "        if token == \"<triplet>\":\n",
        "            current = 't'\n",
        "            if relation != '':\n",
        "                triplets.append({'head': subject.strip(), 'type': relation.strip(),'tail': object_.strip()})\n",
        "                relation = ''\n",
        "            subject = ''\n",
        "        elif token == \"<subj>\":\n",
        "            current = 's'\n",
        "            if relation != '':\n",
        "                triplets.append({'head': subject.strip(), 'type': relation.strip(),'tail': object_.strip()})\n",
        "            object_ = ''\n",
        "        elif token == \"<obj>\":\n",
        "            current = 'o'\n",
        "            relation = ''\n",
        "        else:\n",
        "            if current == 't':\n",
        "                subject += ' ' + token\n",
        "            elif current == 's':\n",
        "                object_ += ' ' + token\n",
        "            elif current == 'o':\n",
        "                relation += ' ' + token\n",
        "    if subject != '' and relation != '' and object_ != '':\n",
        "        triplets.append({'head': subject.strip(), 'type': relation.strip(),'tail': object_.strip()})\n",
        "    return triplets"
      ],
      "metadata": {
        "id": "7Ywk22QIEZ-j"
      },
      "execution_count": 152,
      "outputs": []
    },
    {
      "cell_type": "code",
      "source": [
        "extracted_triplets = extract_triplets(extracted_text[0])"
      ],
      "metadata": {
        "id": "wGABdbZkGkbM"
      },
      "execution_count": 153,
      "outputs": []
    },
    {
      "cell_type": "code",
      "source": [
        "print(extracted_triplets)"
      ],
      "metadata": {
        "id": "3ga3XDLh95fg",
        "colab": {
          "base_uri": "https://localhost:8080/"
        },
        "outputId": "b2f8a721-0a11-4dd4-e8da-f07c46ee7ba9"
      },
      "execution_count": 154,
      "outputs": [
        {
          "output_type": "stream",
          "name": "stdout",
          "text": [
            "[{'head': 'Zagreb', 'type': 'instance of', 'tail': 'capital'}, {'head': 'Zagreb', 'type': 'country', 'tail': 'Croatia'}, {'head': 'Croatia', 'type': 'capital', 'tail': 'Zagreb'}]\n"
          ]
        }
      ]
    },
    {
      "cell_type": "markdown",
      "source": [
        "## DB Pedia Spotlight"
      ],
      "metadata": {
        "id": "ccxbD1dTNaaw"
      }
    },
    {
      "cell_type": "code",
      "source": [
        "import requests\n",
        "\n",
        "url =\"https://api.dbpedia-spotlight.org/en/annotate\"\n",
        "headers={'accept':'application/json'}"
      ],
      "metadata": {
        "id": "kbFIxq-SEnN_"
      },
      "execution_count": 155,
      "outputs": []
    },
    {
      "cell_type": "markdown",
      "source": [
        "DBPedia request"
      ],
      "metadata": {
        "id": "IAF1WKa0FJiM"
      }
    },
    {
      "cell_type": "code",
      "source": [
        "resp = requests.get(url, headers=headers, params={\"text\": text})"
      ],
      "metadata": {
        "id": "w-BXTjbvFI8Q"
      },
      "execution_count": 156,
      "outputs": []
    },
    {
      "cell_type": "markdown",
      "source": [
        "Link REBEL extracted entities and DBPedia"
      ],
      "metadata": {
        "id": "7FLoFomPGwEg"
      }
    },
    {
      "cell_type": "code",
      "source": [
        "# convert json response to dict\n",
        "data = resp.json()\n",
        "data"
      ],
      "metadata": {
        "colab": {
          "base_uri": "https://localhost:8080/"
        },
        "id": "dzrs4meRH8iO",
        "outputId": "21bd2a38-b28f-4378-fb2d-fc576a70f08d"
      },
      "execution_count": 157,
      "outputs": [
        {
          "output_type": "execute_result",
          "data": {
            "text/plain": [
              "{'@text': 'Zagreb is the capital of Croatia, a beautiful country from\\xa0Eastern Europe.',\n",
              " '@confidence': '0.5',\n",
              " '@support': '0',\n",
              " '@types': '',\n",
              " '@sparql': '',\n",
              " '@policy': 'whitelist',\n",
              " 'Resources': [{'@URI': 'http://dbpedia.org/resource/Zagreb',\n",
              "   '@support': '17279',\n",
              "   '@types': 'Wikidata:Q515,Wikidata:Q486972,Schema:Place,Schema:City,DBpedia:Settlement,DBpedia:PopulatedPlace,DBpedia:Place,DBpedia:Location,DBpedia:City',\n",
              "   '@surfaceForm': 'Zagreb',\n",
              "   '@offset': '0',\n",
              "   '@similarityScore': '0.9514172491266707',\n",
              "   '@percentageOfSecondRank': '0.0404535610038901'},\n",
              "  {'@URI': 'http://dbpedia.org/resource/Croatia',\n",
              "   '@support': '37175',\n",
              "   '@types': 'Wikidata:Q6256,Schema:Place,Schema:Country,DBpedia:PopulatedPlace,DBpedia:Place,DBpedia:Location,DBpedia:Country',\n",
              "   '@surfaceForm': 'Croatia',\n",
              "   '@offset': '25',\n",
              "   '@similarityScore': '0.9836082105363896',\n",
              "   '@percentageOfSecondRank': '0.007004428583582536'},\n",
              "  {'@URI': 'http://dbpedia.org/resource/Eastern_Europe',\n",
              "   '@support': '7057',\n",
              "   '@types': '',\n",
              "   '@surfaceForm': 'Eastern Europe',\n",
              "   '@offset': '59',\n",
              "   '@similarityScore': '0.9986027644023237',\n",
              "   '@percentageOfSecondRank': '9.484249940240224E-4'}]}"
            ]
          },
          "metadata": {},
          "execution_count": 157
        }
      ]
    },
    {
      "cell_type": "code",
      "source": [
        "# linking REBEL and DBPedia information\n",
        "Graph_dict = extracted_triplets\n",
        "for resource in data[\"Resources\"]:\n",
        "  for triplet in Graph_dict:\n",
        "    if resource[\"@surfaceForm\"] == triplet[\"head\"]:\n",
        "      triplet[\"head\"] = resource\n",
        "    elif resource[\"@surfaceForm\"] == triplet[\"tail\"]:\n",
        "      triplet[\"tail\"] = resource\n",
        "\n",
        "print(Graph_dict)"
      ],
      "metadata": {
        "colab": {
          "base_uri": "https://localhost:8080/"
        },
        "id": "V26Hk3DVJ354",
        "outputId": "f6bc76b9-52fc-4f25-bcb1-9dc33ac1c115"
      },
      "execution_count": 164,
      "outputs": [
        {
          "output_type": "stream",
          "name": "stdout",
          "text": [
            "[{'head': {'@URI': 'http://dbpedia.org/resource/Zagreb', '@support': '17279', '@types': 'Wikidata:Q515,Wikidata:Q486972,Schema:Place,Schema:City,DBpedia:Settlement,DBpedia:PopulatedPlace,DBpedia:Place,DBpedia:Location,DBpedia:City', '@surfaceForm': 'Zagreb', '@offset': '0', '@similarityScore': '0.9514172491266707', '@percentageOfSecondRank': '0.0404535610038901'}, 'type': 'instance of', 'tail': 'capital'}, {'head': {'@URI': 'http://dbpedia.org/resource/Zagreb', '@support': '17279', '@types': 'Wikidata:Q515,Wikidata:Q486972,Schema:Place,Schema:City,DBpedia:Settlement,DBpedia:PopulatedPlace,DBpedia:Place,DBpedia:Location,DBpedia:City', '@surfaceForm': 'Zagreb', '@offset': '0', '@similarityScore': '0.9514172491266707', '@percentageOfSecondRank': '0.0404535610038901'}, 'type': 'country', 'tail': {'@URI': 'http://dbpedia.org/resource/Croatia', '@support': '37175', '@types': 'Wikidata:Q6256,Schema:Place,Schema:Country,DBpedia:PopulatedPlace,DBpedia:Place,DBpedia:Location,DBpedia:Country', '@surfaceForm': 'Croatia', '@offset': '25', '@similarityScore': '0.9836082105363896', '@percentageOfSecondRank': '0.007004428583582536'}}, {'head': {'@URI': 'http://dbpedia.org/resource/Croatia', '@support': '37175', '@types': 'Wikidata:Q6256,Schema:Place,Schema:Country,DBpedia:PopulatedPlace,DBpedia:Place,DBpedia:Location,DBpedia:Country', '@surfaceForm': 'Croatia', '@offset': '25', '@similarityScore': '0.9836082105363896', '@percentageOfSecondRank': '0.007004428583582536'}, 'type': 'capital', 'tail': {'@URI': 'http://dbpedia.org/resource/Zagreb', '@support': '17279', '@types': 'Wikidata:Q515,Wikidata:Q486972,Schema:Place,Schema:City,DBpedia:Settlement,DBpedia:PopulatedPlace,DBpedia:Place,DBpedia:Location,DBpedia:City', '@surfaceForm': 'Zagreb', '@offset': '0', '@similarityScore': '0.9514172491266707', '@percentageOfSecondRank': '0.0404535610038901'}}]\n"
          ]
        }
      ]
    },
    {
      "cell_type": "code",
      "source": [
        "# remove nodes whithout DPpedia correspondences\n",
        "Graph_aux = Graph_dict\n",
        "Graph_dict = []\n",
        "for node in Graph_aux:\n",
        "  if \"@URI\" in node[\"head\"] and \"@URI\" in node[\"tail\"]:\n",
        "    Graph_dict.append(node)\n",
        "\n",
        "print(Graph_dict)"
      ],
      "metadata": {
        "colab": {
          "base_uri": "https://localhost:8080/"
        },
        "id": "IfEK7wg3jOLi",
        "outputId": "1baa122f-257e-4981-d1e4-ff787a6b89b5"
      },
      "execution_count": 165,
      "outputs": [
        {
          "output_type": "stream",
          "name": "stdout",
          "text": [
            "[{'head': {'@URI': 'http://dbpedia.org/resource/Zagreb', '@support': '17279', '@types': 'Wikidata:Q515,Wikidata:Q486972,Schema:Place,Schema:City,DBpedia:Settlement,DBpedia:PopulatedPlace,DBpedia:Place,DBpedia:Location,DBpedia:City', '@surfaceForm': 'Zagreb', '@offset': '0', '@similarityScore': '0.9514172491266707', '@percentageOfSecondRank': '0.0404535610038901'}, 'type': 'country', 'tail': {'@URI': 'http://dbpedia.org/resource/Croatia', '@support': '37175', '@types': 'Wikidata:Q6256,Schema:Place,Schema:Country,DBpedia:PopulatedPlace,DBpedia:Place,DBpedia:Location,DBpedia:Country', '@surfaceForm': 'Croatia', '@offset': '25', '@similarityScore': '0.9836082105363896', '@percentageOfSecondRank': '0.007004428583582536'}}, {'head': {'@URI': 'http://dbpedia.org/resource/Croatia', '@support': '37175', '@types': 'Wikidata:Q6256,Schema:Place,Schema:Country,DBpedia:PopulatedPlace,DBpedia:Place,DBpedia:Location,DBpedia:Country', '@surfaceForm': 'Croatia', '@offset': '25', '@similarityScore': '0.9836082105363896', '@percentageOfSecondRank': '0.007004428583582536'}, 'type': 'capital', 'tail': {'@URI': 'http://dbpedia.org/resource/Zagreb', '@support': '17279', '@types': 'Wikidata:Q515,Wikidata:Q486972,Schema:Place,Schema:City,DBpedia:Settlement,DBpedia:PopulatedPlace,DBpedia:Place,DBpedia:Location,DBpedia:City', '@surfaceForm': 'Zagreb', '@offset': '0', '@similarityScore': '0.9514172491266707', '@percentageOfSecondRank': '0.0404535610038901'}}]\n"
          ]
        }
      ]
    },
    {
      "cell_type": "markdown",
      "source": [
        "## Wikidata - property linking\n",
        "Using Sparqlwrapper to perform Sparql queries"
      ],
      "metadata": {
        "id": "_e1xA05-tGOC"
      }
    },
    {
      "cell_type": "code",
      "source": [
        "from SPARQLWrapper import SPARQLWrapper, JSON\n",
        "\n",
        "def SparqlQuery(text):\n",
        "  sparql = SPARQLWrapper(\n",
        "      \"https://query.wikidata.org/sparql\"\n",
        "  )\n",
        "  sparql.setReturnFormat(JSON)\n",
        "\n",
        "  query1 = \"SELECT ?p\\nWHERE\\n{\\n?p rdfs:label \"\n",
        "  query2 = \"@en.\\n}\"\n",
        "  sparql.setQuery(query1 + '\"' + text + '\"' + query2)\n",
        "  try:\n",
        "    ret = sparql.queryAndConvert()\n",
        "\n",
        "    # works for \"p\" values extracted from wikidata\n",
        "    uri = ret[\"results\"][\"bindings\"][0][\"p\"][\"value\"]\n",
        "\n",
        "    info = {\n",
        "        \"uri\" : uri,\n",
        "        \"label\" : text\n",
        "    }\n",
        "\n",
        "    return info\n",
        "\n",
        "  except Exception as e:\n",
        "    print(e)\n",
        "\n",
        "    return 0"
      ],
      "metadata": {
        "id": "IiS_wbKytc6h"
      },
      "execution_count": 166,
      "outputs": []
    },
    {
      "cell_type": "code",
      "source": [
        "# Simple test of SPARQL Query\n",
        "text1 = \"located in the administrative territorial entity\"\n",
        "prop = SparqlQuery(text1)\n",
        "print(prop)"
      ],
      "metadata": {
        "colab": {
          "base_uri": "https://localhost:8080/"
        },
        "id": "VocU6pthWea0",
        "outputId": "67c33721-0371-423a-dffd-906fa31335d9"
      },
      "execution_count": 167,
      "outputs": [
        {
          "output_type": "stream",
          "name": "stdout",
          "text": [
            "{'uri': 'http://www.wikidata.org/entity/P131', 'label': 'located in the administrative territorial entity'}\n"
          ]
        }
      ]
    },
    {
      "cell_type": "code",
      "source": [
        "# link Graph with Wikidata properties\n",
        "for triplet in Graph_dict:\n",
        "  rebelProperty = triplet[\"type\"]\n",
        "  relation = SparqlQuery(rebelProperty)\n",
        "  if relation == 0:\n",
        "    # REMOVE the triplets were the wikidata Property is not found\n",
        "    print(\"ERROR! FIX SPARQL query function\")\n",
        "    print(triplet)\n",
        "    Graph_dict.remove(triplet)\n",
        "    print(\"Triplet removed\")\n",
        "  else:\n",
        "    triplet[\"type\"] = relation"
      ],
      "metadata": {
        "id": "sbUgZvq5NXYD"
      },
      "execution_count": 168,
      "outputs": []
    },
    {
      "cell_type": "markdown",
      "source": [
        "Triplets Obtained"
      ],
      "metadata": {
        "id": "N3_ifcjbYrbj"
      }
    },
    {
      "cell_type": "code",
      "source": [
        "Graph_dict"
      ],
      "metadata": {
        "colab": {
          "base_uri": "https://localhost:8080/"
        },
        "id": "5ac6zsRsT76i",
        "outputId": "26437f00-e941-438f-e675-7ef90406c188"
      },
      "execution_count": 169,
      "outputs": [
        {
          "output_type": "execute_result",
          "data": {
            "text/plain": [
              "[{'head': {'@URI': 'http://dbpedia.org/resource/Zagreb',\n",
              "   '@support': '17279',\n",
              "   '@types': 'Wikidata:Q515,Wikidata:Q486972,Schema:Place,Schema:City,DBpedia:Settlement,DBpedia:PopulatedPlace,DBpedia:Place,DBpedia:Location,DBpedia:City',\n",
              "   '@surfaceForm': 'Zagreb',\n",
              "   '@offset': '0',\n",
              "   '@similarityScore': '0.9514172491266707',\n",
              "   '@percentageOfSecondRank': '0.0404535610038901'},\n",
              "  'type': {'uri': 'http://www.wikidata.org/entity/P17', 'label': 'country'},\n",
              "  'tail': {'@URI': 'http://dbpedia.org/resource/Croatia',\n",
              "   '@support': '37175',\n",
              "   '@types': 'Wikidata:Q6256,Schema:Place,Schema:Country,DBpedia:PopulatedPlace,DBpedia:Place,DBpedia:Location,DBpedia:Country',\n",
              "   '@surfaceForm': 'Croatia',\n",
              "   '@offset': '25',\n",
              "   '@similarityScore': '0.9836082105363896',\n",
              "   '@percentageOfSecondRank': '0.007004428583582536'}},\n",
              " {'head': {'@URI': 'http://dbpedia.org/resource/Croatia',\n",
              "   '@support': '37175',\n",
              "   '@types': 'Wikidata:Q6256,Schema:Place,Schema:Country,DBpedia:PopulatedPlace,DBpedia:Place,DBpedia:Location,DBpedia:Country',\n",
              "   '@surfaceForm': 'Croatia',\n",
              "   '@offset': '25',\n",
              "   '@similarityScore': '0.9836082105363896',\n",
              "   '@percentageOfSecondRank': '0.007004428583582536'},\n",
              "  'type': {'uri': 'http://www.wikidata.org/entity/P36', 'label': 'capital'},\n",
              "  'tail': {'@URI': 'http://dbpedia.org/resource/Zagreb',\n",
              "   '@support': '17279',\n",
              "   '@types': 'Wikidata:Q515,Wikidata:Q486972,Schema:Place,Schema:City,DBpedia:Settlement,DBpedia:PopulatedPlace,DBpedia:Place,DBpedia:Location,DBpedia:City',\n",
              "   '@surfaceForm': 'Zagreb',\n",
              "   '@offset': '0',\n",
              "   '@similarityScore': '0.9514172491266707',\n",
              "   '@percentageOfSecondRank': '0.0404535610038901'}}]"
            ]
          },
          "metadata": {},
          "execution_count": 169
        }
      ]
    },
    {
      "cell_type": "markdown",
      "source": [
        "## Convert Dictionary to RDF using RDFLIB"
      ],
      "metadata": {
        "id": "qz1a3CqTajdj"
      }
    },
    {
      "cell_type": "code",
      "source": [
        "wikidata = \"http://www.wikidata.org/entity/\"\n",
        "schema = \"https://schema.org/\"\n",
        "dbpedia = \"https://dbpedia.org/ontology/\"\n",
        "\n",
        "\n",
        "def replaceUriPrefix(types):\n",
        "  types = types.split(\",\")\n",
        "  wiki_flag = 0\n",
        "  schema_flag = 0\n",
        "  dbpedia_flag = 0\n",
        "  new_types = []\n",
        "  for ht in types:\n",
        "    if \"Wikidata\" in ht and wiki_flag == 0:\n",
        "      new_types.append(ht.replace(\"Wikidata:\", wikidata))\n",
        "      wiki_flag = 1\n",
        "    elif \"Schema:\" in ht and schema_flag == 0:\n",
        "      new_types.append(ht.replace(\"Schema:\", schema))\n",
        "      schema_flag = 1\n",
        "    elif \"DBpedia:\" in ht and dbpedia_flag == 0:\n",
        "      new_types.append(ht.replace(\"DBpedia:\" , dbpedia))\n",
        "      dbpedia_flag = 1\n",
        "\n",
        "  return new_types"
      ],
      "metadata": {
        "id": "9FVJsHcZgIXy"
      },
      "execution_count": 170,
      "outputs": []
    },
    {
      "cell_type": "code",
      "source": [
        "from rdflib import Graph, URIRef, Literal, BNode\n",
        "from rdflib import Graph\n",
        "from rdflib.namespace import RDFS, RDF\n",
        "# Create a Graph\n",
        "g = Graph()\n",
        "\n",
        "wikidata = \"http://www.wikidata.org/entity/\"\n",
        "schema = \"https://schema.org/\"\n",
        "dbpedia = \"https://dbpedia.org/ontology/\"\n",
        "\n",
        "g.bind(\"wikidata\", wikidata)\n",
        "g.bind (\"dbo\" , dbpedia)\n",
        "g.bind (\"dbr\" , \"http://dbpedia.org/resource\")\n",
        "\n",
        "# Create an RDF URI node to use as the subject for multiple triples\n",
        "sdllod = URIRef(\"http://example.org/sdllod#\")\n",
        "\n",
        "for node in Graph_dict:\n",
        "\n",
        "  types_head = replaceUriPrefix(node[\"head\"][\"@types\"])\n",
        "  types_tail = replaceUriPrefix(node[\"tail\"][\"@types\"])\n",
        "\n",
        "  head_uri = URIRef(node[\"head\"][\"@URI\"])\n",
        "  head_label = Literal(node[\"head\"][\"@surfaceForm\"])\n",
        "\n",
        "  tail_uri = URIRef(node[\"tail\"][\"@URI\"])\n",
        "  tail_label = Literal(node[\"tail\"][\"@surfaceForm\"])\n",
        "\n",
        "  relation_uri = URIRef(node[\"type\"][\"uri\"])\n",
        "  relation_label = Literal(node[\"type\"][\"label\"])\n",
        "\n",
        "  # general relation\n",
        "  g.add((head_uri, relation_uri , tail_uri))\n",
        "\n",
        "  #head\n",
        "  g.add((head_uri, RDFS.label, head_label))\n",
        "  for tp in types_head:\n",
        "    tp = URIRef(tp)\n",
        "    g.add((head_uri, RDF.type, tp))\n",
        "\n",
        "  #tail\n",
        "  g.add((tail_uri, RDFS.label, tail_label))\n",
        "\n",
        "  for tp in types_tail:\n",
        "    tp = URIRef(tp)\n",
        "    g.add((head_uri, RDF.type, tp))\n",
        "\n",
        "  # relation label\n",
        "  g.add((relation_uri, RDFS.label, relation_label))"
      ],
      "metadata": {
        "id": "YJ232pvFbT_8"
      },
      "execution_count": 171,
      "outputs": []
    },
    {
      "cell_type": "code",
      "source": [
        "#for stmt in g:\n",
        "#  print(stmt)"
      ],
      "metadata": {
        "id": "NQ32s7KdFdZR"
      },
      "execution_count": 1,
      "outputs": []
    },
    {
      "cell_type": "code",
      "source": [
        "print(g.serialize(format=\"turtle\"))\n",
        "#output = g.serialize(destination=\"punta_cana.ttl\", format=\"ttl\")"
      ],
      "metadata": {
        "colab": {
          "base_uri": "https://localhost:8080/"
        },
        "id": "n1i4NhCN1NoO",
        "outputId": "01e2d95f-d2cc-43b4-b795-be237b0d6db8"
      },
      "execution_count": 172,
      "outputs": [
        {
          "output_type": "stream",
          "name": "stdout",
          "text": [
            "@prefix dbo: <https://dbpedia.org/ontology/> .\n",
            "@prefix rdfs: <http://www.w3.org/2000/01/rdf-schema#> .\n",
            "@prefix schema: <https://schema.org/> .\n",
            "@prefix wikidata: <http://www.wikidata.org/entity/> .\n",
            "\n",
            "wikidata:P17 rdfs:label \"country\" .\n",
            "\n",
            "wikidata:P36 rdfs:label \"capital\" .\n",
            "\n",
            "<http://dbpedia.org/resource/Croatia> a wikidata:Q515,\n",
            "        wikidata:Q6256,\n",
            "        dbo:PopulatedPlace,\n",
            "        dbo:Settlement,\n",
            "        schema:Place ;\n",
            "    rdfs:label \"Croatia\" ;\n",
            "    wikidata:P36 <http://dbpedia.org/resource/Zagreb> .\n",
            "\n",
            "<http://dbpedia.org/resource/Zagreb> a wikidata:Q515,\n",
            "        wikidata:Q6256,\n",
            "        dbo:PopulatedPlace,\n",
            "        dbo:Settlement,\n",
            "        schema:Place ;\n",
            "    rdfs:label \"Zagreb\" ;\n",
            "    wikidata:P17 <http://dbpedia.org/resource/Croatia> .\n",
            "\n",
            "\n"
          ]
        }
      ]
    }
  ]
}